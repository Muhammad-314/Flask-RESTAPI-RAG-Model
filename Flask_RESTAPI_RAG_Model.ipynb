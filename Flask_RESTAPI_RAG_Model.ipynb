{
  "nbformat": 4,
  "nbformat_minor": 0,
  "metadata": {
    "colab": {
      "provenance": []
    },
    "kernelspec": {
      "name": "python3",
      "display_name": "Python 3"
    },
    "language_info": {
      "name": "python"
    }
  },
  "cells": [
    {
      "cell_type": "code",
      "execution_count": null,
      "metadata": {
        "collapsed": true,
        "id": "1VriwQCAY9qP",
        "colab": {
          "base_uri": "https://localhost:8080/"
        },
        "outputId": "ff61fb92-2f41-4c98-870f-96fed8f5bd8b"
      },
      "outputs": [
        {
          "output_type": "stream",
          "name": "stderr",
          "text": [
            "WARNING:langchain_community.utils.user_agent:USER_AGENT environment variable not set, consider setting it to identify your requests.\n"
          ]
        }
      ],
      "source": [
        "# Part 1: Environment Setup and Dependencies\n",
        "%%capture\n",
        "!pip install openai==1.55.3 httpx==0.27.2\n",
        "!pip install pinecone-client==3.0.0\n",
        "!pip install langchain==0.3.13\n",
        "!pip install tiktoken==0.5.1\n",
        "!pip install flask_restful\n",
        "!pip install langchain-community\n",
        "!pip install html2text flask requests flask-ngrok pyngrok flask-cors\n",
        "\n",
        "import os\n",
        "import openai\n",
        "from pinecone import Pinecone, ServerlessSpec\n",
        "import tiktoken\n",
        "from langchain.text_splitter import RecursiveCharacterTextSplitter\n",
        "import io\n",
        "\n",
        "from flask import Flask, request, jsonify\n",
        "from flask_restful import Api, Resource\n",
        "from bs4 import BeautifulSoup\n",
        "import requests\n",
        "from langchain.document_loaders import AsyncHtmlLoader\n",
        "from langchain.document_transformers import Html2TextTransformer\n",
        "from langchain_community.document_transformers import BeautifulSoupTransformer\n",
        "from flask_ngrok import run_with_ngrok\n",
        "from pyngrok import ngrok\n",
        "from flask_cors import CORS\n",
        "\n",
        "# Get API keys\n",
        "openai_api_key = \"openAI-key\" #Enter the key\n",
        "pinecone_api_key = \"pinecone-key\" #Enter the key\n",
        "ngrok_auth_token = \"ngrok-key\" #Enter the key"
      ]
    },
    {
      "cell_type": "code",
      "source": [
        "# Part 2: Configuration and API Setup\n",
        "def setup_apis(openai_api_key, pinecone_api_key):\n",
        "    \"\"\"\n",
        "    Initialize OpenAI and Pinecone with API keys and environment settings\n",
        "    Returns initialized Pinecone client\n",
        "    \"\"\"\n",
        "    openai.api_key = openai_api_key\n",
        "    pc = Pinecone(api_key=pinecone_api_key)\n",
        "    return pc"
      ],
      "metadata": {
        "id": "P2iLo3Lvafmd"
      },
      "execution_count": null,
      "outputs": []
    },
    {
      "cell_type": "code",
      "source": [
        "# Part 3: URL Data Extraction and Splitting into Chunks\n",
        "def extract_webpage_content(url):\n",
        "    \"\"\"Extract content from webpage using Langchain's AsyncHtmlLoader\"\"\"\n",
        "    # Load HTML content\n",
        "    loader = AsyncHtmlLoader([url])\n",
        "    docs = loader.load()\n",
        "\n",
        "    # Transform HTML to readable text\n",
        "    bs_transformer = BeautifulSoupTransformer()\n",
        "    docs_transformed = bs_transformer.transform_documents(\n",
        "        docs, tags_to_extract=[\"div\"]\n",
        "    )\n",
        "\n",
        "    text_chunks = split_documents(docs_transformed)\n",
        "    return text_chunks\n",
        "\n",
        "def split_documents(text, chunk_size=1000, chunk_overlap=200):\n",
        "    \"\"\"\n",
        "    Split text into smaller chunks for processing\n",
        "    Returns list of text chunks\n",
        "    \"\"\"\n",
        "    text_splitter = RecursiveCharacterTextSplitter(\n",
        "        chunk_size=chunk_size,\n",
        "        chunk_overlap=chunk_overlap,\n",
        "    )\n",
        "    chunks = text_splitter.split_documents(text)\n",
        "    print(f\"URL Document split into {len(chunks)} chunks\")\n",
        "    return chunks"
      ],
      "metadata": {
        "id": "RruZVEzgLtAM"
      },
      "execution_count": null,
      "outputs": []
    },
    {
      "cell_type": "code",
      "source": [
        "# Part 4: Vector Creation and Storage\n",
        "def create_embeddings(text_chunks):\n",
        "    \"\"\"\n",
        "    Generate embeddings for text chunks using OpenAI's embedding model\n",
        "    \"\"\"\n",
        "    embeddings = []\n",
        "    for chunk in text_chunks:\n",
        "        # Extract the text content from the Document object\n",
        "        chunk_text = chunk.page_content\n",
        "        response = openai.embeddings.create(\n",
        "            input=chunk_text,\n",
        "            model=\"text-embedding-3-small\"\n",
        "        )\n",
        "        embeddings.append(response.data[0].embedding)\n",
        "    return embeddings\n",
        "\n",
        "def setup_pinecone_index(pc, index_name, dimension=1536):\n",
        "    \"\"\"\n",
        "    Create or connect to Pinecone index\n",
        "    \"\"\"\n",
        "    if index_name not in pc.list_indexes().names():\n",
        "        pc.create_index(\n",
        "            name=index_name,\n",
        "            dimension=dimension,\n",
        "            metric='cosine',\n",
        "            spec=ServerlessSpec(\n",
        "                cloud='aws',\n",
        "                region='us-east-1'\n",
        "            )\n",
        "        )\n",
        "    return pc.Index(index_name)\n",
        "\n",
        "def upload_to_pinecone(index, text_chunks, embeddings):\n",
        "    \"\"\"\n",
        "    Upload text chunks and their embeddings to Pinecone\n",
        "    \"\"\"\n",
        "    for i, (chunk, embedding) in enumerate(zip(text_chunks, embeddings)):\n",
        "        index.upsert(vectors=[{\n",
        "            'id': f'chunk_{i}',\n",
        "            'values': embedding,\n",
        "            'metadata': {'text': chunk.page_content}\n",
        "        }])"
      ],
      "metadata": {
        "id": "R2xSyw08apW3"
      },
      "execution_count": null,
      "outputs": []
    },
    {
      "cell_type": "code",
      "source": [
        "# Part 5: Query Processing\n",
        "def process_query(query, index):\n",
        "    \"\"\"\n",
        "    Process user query and retrieve relevant context\n",
        "    \"\"\"\n",
        "    # Create query embedding\n",
        "    query_embedding = openai.embeddings.create(\n",
        "        model=\"text-embedding-3-small\",\n",
        "        input=query\n",
        "    ).data[0].embedding\n",
        "\n",
        "    # Search Pinecone\n",
        "    results = index.query(\n",
        "        vector=query_embedding,\n",
        "        top_k=3,\n",
        "        include_metadata=True\n",
        "    )\n",
        "\n",
        "    # Extract relevant contexts\n",
        "    contexts = [match.metadata['text'] for match in results.matches]\n",
        "    return contexts"
      ],
      "metadata": {
        "id": "s46cgFCPavOx"
      },
      "execution_count": null,
      "outputs": []
    },
    {
      "cell_type": "code",
      "source": [
        "# Part 6: Response Generation\n",
        "def generate_response(query, contexts):\n",
        "    \"\"\"\n",
        "    Generate response using OpenAI's GPT model with retrieved contexts\n",
        "    \"\"\"\n",
        "    prompt = f\"\"\"Based on the following contexts, answer the question.\n",
        "\n",
        "Contexts:\n",
        "{' '.join(contexts)}\n",
        "\n",
        "Question: {query}\n",
        "\n",
        "Answer:\"\"\"\n",
        "\n",
        "    response = openai.chat.completions.create(\n",
        "        model=\"gpt-4-turbo-preview\",\n",
        "        messages=[\n",
        "            {\"role\": \"system\", \"content\": \"You are a helpful assistant that answers questions based on the provided context.\"},\n",
        "            {\"role\": \"user\", \"content\": prompt}\n",
        "        ],\n",
        "        temperature=0.7,\n",
        "        max_tokens=500\n",
        "    )\n",
        "\n",
        "    return response.choices[0].message.content"
      ],
      "metadata": {
        "id": "ldezxEgQkX3u"
      },
      "execution_count": null,
      "outputs": []
    },
    {
      "cell_type": "code",
      "source": [
        "# Part 7: Enhanced Interactive Interface\n",
        "\n",
        "global pc_index\n",
        "\n",
        "def run_chatbot_system(url):\n",
        "    \"\"\"\n",
        "    Main function to run the QA system interactively with enhanced file upload\n",
        "    \"\"\"\n",
        "    print(\"Welcome to the Smart Question-Answering System!\")\n",
        "    print(\"--------------------------------------------\")\n",
        "\n",
        "    # Setup APIs\n",
        "    print(\"\\nInitializing APIs...\")\n",
        "    pc = setup_apis(openai_api_key, pinecone_api_key)\n",
        "\n",
        "    # Process URL Data with Langchain\n",
        "    print(\"\\nPDF Loading URL Data and Processing\")\n",
        "    print(\"------------------------\")\n",
        "    try:\n",
        "        chunks = extract_webpage_content(url)\n",
        "        for chunk in chunks:\n",
        "            print(chunk.page_content)\n",
        "    except Exception as e:\n",
        "        print(f\"Error processing URL data: {str(e)}\")\n",
        "        return\n",
        "\n",
        "    # Create embeddings\n",
        "    print(\"\\nCreating document embeddings...\")\n",
        "    embeddings = create_embeddings(chunks)\n",
        "    print(f\"Created {len(embeddings)} embeddings\")\n",
        "\n",
        "    # Setup Pinecone\n",
        "    print(\"\\nSetting up vector database...\")\n",
        "    pc_index = setup_pinecone_index(pc, \"my-rag-test\")\n",
        "    print(\"Vector database ready!\")\n",
        "\n",
        "    # Upload to Pinecone\n",
        "    print(\"\\nUploading to vector database...\")\n",
        "    upload_to_pinecone(pc_index, chunks, embeddings)\n",
        "    print(\"Uploaded to Vector database!\")"
      ],
      "metadata": {
        "collapsed": true,
        "id": "1vwuRjQ9bA3B"
      },
      "execution_count": null,
      "outputs": []
    },
    {
      "cell_type": "code",
      "source": [
        "# Part 8: Flask based Chatbot Setup\n",
        "\n",
        "# Configure ngrok\n",
        "# Replace with your authtoken from ngrok dashboard\n",
        "ngrok.set_auth_token(ngrok_auth_token)\n",
        "\n",
        "# Flask API setup\n",
        "app = Flask(__name__)\n",
        "CORS(app, resources={\n",
        "    r\"/chat\": {\n",
        "        \"origins\": \"*\",\n",
        "        \"methods\": [\"POST\", \"OPTIONS\"],\n",
        "        \"allow_headers\": [\"Content-Type\", \"Authorization\"]\n",
        "    }\n",
        "})\n",
        "api = Api(app)\n",
        "run_with_ngrok(app)\n",
        "\n",
        "# Initialize ngrok\n",
        "try:\n",
        "    # Kill any existing ngrok processes\n",
        "    ngrok.kill()\n",
        "\n",
        "    # Start a new ngrok tunnel\n",
        "    ngrok_tunnel = ngrok.connect(addr=f\"127.0.0.1:5000\", proto=\"http\")\n",
        "    print('Public URL:', ngrok_tunnel.public_url)\n",
        "except Exception as e:\n",
        "    print(f\"Error setting up ngrok: {str(e)}\")\n",
        "    raise\n",
        "\n",
        "class ChatbotAPI(Resource):\n",
        "    def __init__(self):\n",
        "        pc = setup_apis(openai_api_key, pinecone_api_key)\n",
        "        pc_index = setup_pinecone_index(pc, \"my-rag-test\")\n",
        "        self.pinecone_index = pc_index\n",
        "\n",
        "    def post(self):\n",
        "        data = request.get_json()\n",
        "        if not data:\n",
        "            return {\"error\": \"No JSON data received\"}, 400\n",
        "\n",
        "        query = data.get('query')\n",
        "        if not query:\n",
        "            return {\"error\": \"No query provided\"}, 400\n",
        "\n",
        "        if query == \"test\":\n",
        "                # Respond immediately to test requests\n",
        "                return {\"status\": \"connected\", \"response\": \"Test successful\"}, 200\n",
        "\n",
        "        try:\n",
        "            print(\"\\nSearching for relevant information...\")\n",
        "            contexts = process_query(query, self.pinecone_index)\n",
        "            print(\"Generating response...\")\n",
        "            response = generate_response(query, contexts)\n",
        "            print(f\"\\nAnswer: {response}\")\n",
        "\n",
        "            # Return properly structured response\n",
        "            return {\n",
        "                \"success\": True,\n",
        "                \"response\": response,\n",
        "                \"error\": None\n",
        "            }, 200\n",
        "\n",
        "        except Exception as e:\n",
        "            print(f\"Error processing request: {str(e)}\")\n",
        "            return {\"error\": str(e)}, 500\n",
        "\n",
        "api.add_resource(ChatbotAPI, '/chat')\n",
        "\n",
        "if __name__ == \"__main__\":\n",
        "    # First-time setup\n",
        "    url = \"https://brainlox.com/courses/category/technical\"\n",
        "    run_chatbot_system(url)\n",
        "\n",
        "    # Run Flask app\n",
        "    app.run()"
      ],
      "metadata": {
        "colab": {
          "base_uri": "https://localhost:8080/"
        },
        "id": "muI71bQFehQ-",
        "outputId": "bfddc608-8a88-47dc-b41f-9424e8c65a7e"
      },
      "execution_count": null,
      "outputs": [
        {
          "metadata": {
            "tags": null
          },
          "name": "stdout",
          "output_type": "stream",
          "text": [
            "Public URL: https://ff6e-34-68-130-135.ngrok-free.app\n",
            "Welcome to the Smart Question-Answering System!\n",
            "--------------------------------------------\n",
            "\n",
            "Initializing APIs...\n",
            "\n",
            "PDF Loading URL Data and Processing\n",
            "------------------------\n"
          ]
        },
        {
          "metadata": {
            "tags": null
          },
          "name": "stderr",
          "output_type": "stream",
          "text": [
            "Fetching pages: 100%|##########| 1/1 [00:00<00:00,  1.27it/s]\n"
          ]
        },
        {
          "metadata": {
            "tags": null
          },
          "name": "stdout",
          "output_type": "stream",
          "text": [
            "URL Document split into 26 chunks\n",
            "Courses (/courses) Technical (/courses/category/technical) Academic (/courses/category/academic) Language (/courses/category/language) Music (/courses/category/music) Lifestyle (/courses/category/lifestyle) Book a Free Demo Now (/book-free-demo) Sign In (/signin) FAQ (/faq) Contact Us (/contact) Practice Python (https://codenow.brainlox.com/) Learn Now (https://learn.brainlox.com/) Home (/) Courses Courses We found great courses available for you $  20 per session LEARN SCRATCH PROGRAMING (/courses/4f629d96-5ed9-4302-ae0e-3479c543a49e) Scratch Course is the foundation of coding and is a building block of a coding journey. If you want   16  Lessons View Details (/courses/4f629d96-5ed9-4302-ae0e-3479c543a49e) $  30 per session LEARN CLOUD COMPUTING BASICS-AWS (/courses/872d1cb6-8469-4797-b267-8c41837b10e2) In this course we are going to cover the basics and the most important services on AWS, At the end   20  Lessons View Details (/courses/872d1cb6-8469-4797-b267-8c41837b10e2) $  20 per\n",
            "In this course we are going to cover the basics and the most important services on AWS, At the end   20  Lessons View Details (/courses/872d1cb6-8469-4797-b267-8c41837b10e2) $  20 per session LEARN MOBILE DEVELOPMENT (/courses/2cf11f62-6452-41f1-9b42-303fb371b873) Mobile application development is the process of creating software applications that run on a mobil   24  Lessons View Details (/courses/2cf11f62-6452-41f1-9b42-303fb371b873) $  20 per session LEARN CORE JAVA PROGRAMMING ONLINE (/courses/be32e068-edca-4b41-96ee-4839de6aaebb) Java is a very popular high-level, class-based, object-oriented programming language that is design   41  Lessons View Details (/courses/be32e068-edca-4b41-96ee-4839de6aaebb) $  20 per session LEARN ROBOTICS (/courses/0deafb39-3208-42db-93e3-bd69f8562f82) You can open all kinds of doors for advancement in so many careers with a basic understanding of el   25  Lessons View Details (/courses/0deafb39-3208-42db-93e3-bd69f8562f82) $  20 per session LEARN\n",
            "You can open all kinds of doors for advancement in so many careers with a basic understanding of el   25  Lessons View Details (/courses/0deafb39-3208-42db-93e3-bd69f8562f82) $  20 per session LEARN JAVASCRIPT (/courses/fc9e2faf-dbe1-47bf-994c-f566a9ad3b42) JavaScript is the most popular programming language in the world. It powers the entire modern web.   18  Lessons View Details (/courses/fc9e2faf-dbe1-47bf-994c-f566a9ad3b42) $  20 per session LEARN NODE JS (/courses/b0f2428a-c1c0-4def-8ac2-692a2d51a5b4) Node.js developers are in high demand and the language is used for everything from traditional web   18  Lessons View Details (/courses/b0f2428a-c1c0-4def-8ac2-692a2d51a5b4) $  35 per session LEARN CLOUD COMPUTING ADVANCE-AWS (/courses/e0edfcf8-9e0f-4c7a-bc90-3000822924e2) DESCRIPTION This introduction to cloud computing on Amazon AWS course takes you from the AWS Ad   18  Lessons View Details (/courses/e0edfcf8-9e0f-4c7a-bc90-3000822924e2) $  20 per session PYTHON\n",
            "DESCRIPTION This introduction to cloud computing on Amazon AWS course takes you from the AWS Ad   18  Lessons View Details (/courses/e0edfcf8-9e0f-4c7a-bc90-3000822924e2) $  20 per session PYTHON PROGRAMMING-BEGINNER (/courses/fc29b015-962f-41fc-bc93-181d3ed87842) Python is a language with simple syntax, and a powerful set of libraries. It has a rich programming   16  Lessons View Details (/courses/fc29b015-962f-41fc-bc93-181d3ed87842) $  30 per session Roblox Programming For Beginners (/courses/fe8f5696-eb0e-48a0-a505-147e9c502b65) Explore the dynamic universe of game development with our \"Roblox Game Development Fundamentals\" cou   15  Lessons View Details (/courses/fe8f5696-eb0e-48a0-a505-147e9c502b65) $  20 per session PYTHON PROGRAMMING-INTERMEDIATE (/courses/9101883f-00af-48f7-949a-36cfc60ecfcf) Take your python skills to the next level and start building real applications. Python is a pro   16  Lessons View Details (/courses/9101883f-00af-48f7-949a-36cfc60ecfcf) $  25 per\n",
            "Take your python skills to the next level and start building real applications. Python is a pro   16  Lessons View Details (/courses/9101883f-00af-48f7-949a-36cfc60ecfcf) $  25 per session PYTHON PROGRAMMING-ADVANCE (/courses/f9f7b907-5f4f-472d-a7e1-d44d38255a42) If you already know Python basics, then this training is the next step in your Python learning path   30  Lessons View Details (/courses/f9f7b907-5f4f-472d-a7e1-d44d38255a42) $  20 per session PYTHON PROGRAMMING GROUP CLASSES - BEGINNER (/courses/cfcf2aa4-e220-4ce7-844e-563ebfaa98bd) Python is a language with simple syntax, and a powerful set of libraries. It has a rich programming   16  Lessons View Details (/courses/cfcf2aa4-e220-4ce7-844e-563ebfaa98bd) $  30 per session Advanced Roblox Scripting Workshop (/courses/c5e8d5e8-58cb-4836-94e4-51314ffba4f3) \"Are you ready to unlock the full potential of your Roblox game development skills? Join our Interme   14  Lessons View Details\n",
            "Scripting Workshop (/courses/c5e8d5e8-58cb-4836-94e4-51314ffba4f3) \"Are you ready to unlock the full potential of your Roblox game development skills? Join our Interme   14  Lessons View Details (/courses/c5e8d5e8-58cb-4836-94e4-51314ffba4f3) $  20 per session Robotics Adventure Awaits:Join Our Summer Camp for Young Tech Wizards! (/courses/cd8e693c-c6a7-4dca-aeb1-4b7cf1dde495) This course is designed to introduce beginners to the world of robotics. Learners will be taught the   16  Lessons View Details (/courses/cd8e693c-c6a7-4dca-aeb1-4b7cf1dde495) $  20 per session Java Project-Based Course (/courses/6a0fc4c9-2074-4854-ac31-c7dfad9ed932) Java Project-Based Course for Intermediate Level Students ;Overview: This course is designed for int   7  Lessons View Details (/courses/6a0fc4c9-2074-4854-ac31-c7dfad9ed932) $  22 per session Artificial Intelligence Adventures: Building AI Chatbot Like Chatgpt (For Kids) (/courses/51890aee-163e-4ef7-86ff-fe0d6acba7e1) Unlock the power of AI\n",
            "$  22 per session Artificial Intelligence Adventures: Building AI Chatbot Like Chatgpt (For Kids) (/courses/51890aee-163e-4ef7-86ff-fe0d6acba7e1) Unlock the power of AI chatbots in our 10-day course! Gain comprehensive knowledge of chatbot develo   10  Lessons View Details (/courses/51890aee-163e-4ef7-86ff-fe0d6acba7e1) $  20 per session Python Playground: Create a Hangman Game (/courses/c4bdeda0-9565-4073-9eeb-67f4a79e9ec7) Python Playground : Create a Hangman Game is an exciting and engaging course designed specifically f   8  Lessons View Details (/courses/c4bdeda0-9565-4073-9eeb-67f4a79e9ec7) $  20 per session Scratch Playground: Create a Maze Game! (/courses/cc34d7ec-62ae-4018-b75e-207df98a4300) Scratch Playground : Create a Maze Game! is a beginner-level course designed to introduce kids to th   8  Lessons View Details (/courses/cc34d7ec-62ae-4018-b75e-207df98a4300) $  13 per session Artificial Intelligence Essentials: Summer Bootcamp\n",
            "beginner-level course designed to introduce kids to th   8  Lessons View Details (/courses/cc34d7ec-62ae-4018-b75e-207df98a4300) $  13 per session Artificial Intelligence Essentials: Summer Bootcamp (/courses/0544dc35-181e-4e75-b26d-69393de68022) Join us for this engaging 5-day summer bootcamp where we will explore the fascinating world of Artif   5  Lessons View Details (/courses/0544dc35-181e-4e75-b26d-69393de68022) $  25 per session Time Mastery Camp: AI for Jobs, Business, Careers (/courses/8ca45c22-2dae-4c21-840c-8c9a177d09b3) The \"AI for Productivity and Time Management\" course: 🚀💡 Day 1: Introduction to AI and its Applica   11  Lessons View Details (/courses/8ca45c22-2dae-4c21-840c-8c9a177d09b3) $  20 per session Build Your Own Theme Park in Roblox (/courses/5d6b48ea-641e-4707-b7cf-c4f270789c9e) Roblox Studio fundamentals are taught through fun and interactive projects. Lectures, projects, hand   8  Lessons View Details (/courses/5d6b48ea-641e-4707-b7cf-c4f270789c9e) $  12 per\n",
            "Roblox Studio fundamentals are taught through fun and interactive projects. Lectures, projects, hand   8  Lessons View Details (/courses/5d6b48ea-641e-4707-b7cf-c4f270789c9e) $  12 per session Java Coding Summer Camp for Young Minds (/courses/7ef0ff36-cf58-4ce7-a010-b6bc7350d78a) Java Journey: Coding Camp for Curious Minds\" is a fun-filled, 5-day adventure into the world of prog   5  Lessons View Details (/courses/7ef0ff36-cf58-4ce7-a010-b6bc7350d78a) $  25 per session AI Camp for Entrepreneurs: Build Business Success (/courses/72423503-2e09-4404-92f5-48292dda42e3) Welcome to the world of AI in entrepreneurship!  In this course, we will embark on a thrilling journ   7  Lessons View Details (/courses/72423503-2e09-4404-92f5-48292dda42e3) $  12 per session ChatGPT Boot Camp: Basics & Best Uses (/courses/24e3bb16-bc23-4e6e-a74c-1ed32005cf0f) Join us for an exciting journey into the world of AI chatbots with this 5-day bootcamp. You'll learn   5  Lessons View Details\n",
            "Camp: Basics & Best Uses (/courses/24e3bb16-bc23-4e6e-a74c-1ed32005cf0f) Join us for an exciting journey into the world of AI chatbots with this 5-day bootcamp. You'll learn   5  Lessons View Details (/courses/24e3bb16-bc23-4e6e-a74c-1ed32005cf0f) $  13 per session Create-A-Bot: A Project-Based Robotics Exploration (/courses/31e70d66-efd5-44fc-929c-7de0e524624b) Ignite your child's tech curiosity with our \"RoboRacers\" camp! Over five days, campers will delve in   5  Lessons View Details (/courses/31e70d66-efd5-44fc-929c-7de0e524624b) $  20 per session Java & Proramming (/courses/89d301ea-ff81-4224-8d38-a35e8575bffd) \" Project outline for JAVA PROJECT BASED BOOTCAMP 1: Introduction to Java and Programming Basics. 2.   8  Lessons View Details (/courses/89d301ea-ff81-4224-8d38-a35e8575bffd) $  13 per session Chatbot Creators: Design a ChatGPT-like AI (/courses/1af061fc-0890-40ac-98ae-01285283c5ff) Join us on a 7-day bootcamp to step into the world of AI and create your own chatbot like\n",
            "$  13 per session Chatbot Creators: Design a ChatGPT-like AI (/courses/1af061fc-0890-40ac-98ae-01285283c5ff) Join us on a 7-day bootcamp to step into the world of AI and create your own chatbot like ChatGPT. Y   7  Lessons View Details (/courses/1af061fc-0890-40ac-98ae-01285283c5ff) $  30 per session Web Development from scratch (/courses/37b3b505-f8ca-4fd6-92e1-56da829f1805) Unlock the boundless potential of web development with our \"Web Development Essentials\" course. Whet   6  Lessons View Details (/courses/37b3b505-f8ca-4fd6-92e1-56da829f1805) $  11 per session Summer Camp: Introduction to Python (/courses/9829d760-3d63-456a-a1d3-25b96e554819) Step into our 7-day \"Python Project Playground\" camp where coding meets creativity! Kids will explor   7  Lessons View Details (/courses/9829d760-3d63-456a-a1d3-25b96e554819) $  22 per session AI Secrets Revealed: Master Productivity Hacks That Will Blow Your Mind! (For Kids) (/courses/af72f1d6-ee1b-48ba-a217-30985c593bb5) Boost your\n",
            "$  22 per session AI Secrets Revealed: Master Productivity Hacks That Will Blow Your Mind! (For Kids) (/courses/af72f1d6-ee1b-48ba-a217-30985c593bb5) Boost your productivity with AI! Join our \"AI for Productivity and Time Management\" course and lea   11  Lessons View Details (/courses/af72f1d6-ee1b-48ba-a217-30985c593bb5) $  12 per session Summer Bootcamp with JavaScript: Real Projects, Real Results (/courses/189a9ef3-be9d-4b42-a09c-75665fa36e3e) In this 5-day camp, you'll dive headfirst into JavaScript, one of the world's most popular programmi   5  Lessons View Details (/courses/189a9ef3-be9d-4b42-a09c-75665fa36e3e) $  22 per session AI Disruption: Top Entrepreneurs Harnessing AI for Unprecedented Success! (For Kids) (/courses/88ac0ed1-e388-41c9-a1b4-bd82beb52c10) Understand the role and potential of AI in entrepreneurship, learn the fundamentals, explore data ac   7  Lessons View Details (/courses/88ac0ed1-e388-41c9-a1b4-bd82beb52c10) $  22 per session The AI Writer's Masterclass:\n",
            "potential of AI in entrepreneurship, learn the fundamentals, explore data ac   7  Lessons View Details (/courses/88ac0ed1-e388-41c9-a1b4-bd82beb52c10) $  22 per session The AI Writer's Masterclass: Innovation and Inspiration in Creative Writing! (For Kids) (/courses/7ad05239-54cb-4cbb-8cec-4065512db97a) Enhance your creative writing skills with AI! Join our 10-day course and explore AI's role in writin   10  Lessons View Details (/courses/7ad05239-54cb-4cbb-8cec-4065512db97a) $  30 per session Web Development Pro: Intermediate Level (/courses/7f20a234-094c-457a-b2b4-8712bd8f0616) Ready to unlock the full potential of web development? Join our \"Intermediate Web Development Master   8  Lessons View Details (/courses/7f20a234-094c-457a-b2b4-8712bd8f0616) $  20 per session Scratch Playground: Create a Scroller Game! (/courses/03549fee-5478-4352-b146-f2a2c8561191) Scratch Playground : Create a Scroller Game is an intermediate level course designed to teach kids t   8  Lessons View Details\n",
            "Create a Scroller Game! (/courses/03549fee-5478-4352-b146-f2a2c8561191) Scratch Playground : Create a Scroller Game is an intermediate level course designed to teach kids t   8  Lessons View Details (/courses/03549fee-5478-4352-b146-f2a2c8561191) $  25 per session AI Pro: Creative Writing Camp for Adults (/courses/94c549e6-ebca-4bbe-b1a8-17beda62b6d5) 🚀 Welcome to Creative Writing with AI for ADULTS! Unleash your creativity with cutting-edge AI tec   10  Lessons View Details (/courses/94c549e6-ebca-4bbe-b1a8-17beda62b6d5) $  20 per session Python Playground: Create Your Own Snake Game (/courses/5ba67aa9-b272-42ec-88d2-81cd5af6c643) Through this course, participants will learn the fundamentals of Python programming language, as wel   8  Lessons View Details (/courses/5ba67aa9-b272-42ec-88d2-81cd5af6c643) $  20 per session Build your own Calculator using Python Bootcamp for kids (/courses/848a2ee8-b9ce-464a-bcbc-78fcdd67b9dd) This bootcamp is a fun and engaging program designed to\n",
            "$  20 per session Build your own Calculator using Python Bootcamp for kids (/courses/848a2ee8-b9ce-464a-bcbc-78fcdd67b9dd) This bootcamp is a fun and engaging program designed to introduce children to the basics of programm   8  Lessons View Details (/courses/848a2ee8-b9ce-464a-bcbc-78fcdd67b9dd) $  20 per session Python Playground: Create a Tic Tac Toe Game (/courses/4d6f6d90-a53f-4792-a491-1697bb384d57) An interactive and hands-on tutorial designed to help learners build their programming skills while   8  Lessons View Details (/courses/4d6f6d90-a53f-4792-a491-1697bb384d57) $  20 per session Scratch Playground: Create a Flappy Bird Game! (/courses/d6e5c1ea-f3bf-4435-a1c6-7566aef9ddc2) Scratch Playground 103: Create a Flappy Bird is a beginner to intermediate level course designed to   8  Lessons View Details (/courses/d6e5c1ea-f3bf-4435-a1c6-7566aef9ddc2) $  12 per session HTML, CSS, JavaScript: 7-Day Summer Bootcamp (/courses/3cdb1ba6-7b9d-4a04-8ba4-bfffbef9a77f) Jump into the\n",
            "8  Lessons View Details (/courses/d6e5c1ea-f3bf-4435-a1c6-7566aef9ddc2) $  12 per session HTML, CSS, JavaScript: 7-Day Summer Bootcamp (/courses/3cdb1ba6-7b9d-4a04-8ba4-bfffbef9a77f) Jump into the vibrant world of coding with our engaging 7-day summer camp! Starting from scratch, yo   7  Lessons View Details (/courses/3cdb1ba6-7b9d-4a04-8ba4-bfffbef9a77f) $  11 per session Hands-on Java: Project-based Learning for Coding Novices (/courses/6ffc967e-8caf-4540-b0f3-c1e684195d03) Embark on a coding adventure with our \"Code, Create, Conquer\" Java camp! In just 7 days, kids will l   7  Lessons View Details (/courses/6ffc967e-8caf-4540-b0f3-c1e684195d03) $  20 per session Python Playground: Create a Memory Game (/courses/8c6151e3-3141-4a64-8fe0-d5df205e750d) Python Playground: Create a Memory Game is a beginner-level course designed for kids who are interes   8  Lessons View Details (/courses/8c6151e3-3141-4a64-8fe0-d5df205e750d) $  12 per session Summer Bootcamp: 5-Day Scratch Programming\n",
            "is a beginner-level course designed for kids who are interes   8  Lessons View Details (/courses/8c6151e3-3141-4a64-8fe0-d5df205e750d) $  12 per session Summer Bootcamp: 5-Day Scratch Programming for Beginners (/courses/db80cdd0-d396-482a-913e-1fc81c8d9ac4) Embark on an exciting coding adventure with our 5-day Scratch Programming camp! Designed for beginne   5  Lessons View Details (/courses/db80cdd0-d396-482a-913e-1fc81c8d9ac4) $  12 per session 5-Day Summer Camp: Python for Beginners (/courses/9e2df5e5-3dc5-4c87-b385-f464642d8562) Dive into coding with our 5-day \"Python Playground\" camp! Kids will explore Python, a popular langua   5  Lessons View Details (/courses/9e2df5e5-3dc5-4c87-b385-f464642d8562) $  20 per session Build a Text analyzer using Python Bootcamp for kids (/courses/0884af64-fb1b-4c15-9850-3315b99fd92d) The Build a Text Analyzer using Python Bootcamp for Kids is an educational program designed to intro   8  Lessons View Details\n",
            "Python Bootcamp for kids (/courses/0884af64-fb1b-4c15-9850-3315b99fd92d) The Build a Text Analyzer using Python Bootcamp for Kids is an educational program designed to intro   8  Lessons View Details (/courses/0884af64-fb1b-4c15-9850-3315b99fd92d) $  20 per session Scratch Playground : Create a Platformer Game! (/courses/4b7a6968-f8f6-4f98-bd8d-357b71ca9496) Scratch Playground : Create a Platformer Game is an intermediate level course designed to teach kids   8  Lessons View Details (/courses/4b7a6968-f8f6-4f98-bd8d-357b71ca9496) $  30 per session Introduction to Artificial Intelligence! (/courses/9e0490f4-e45b-41df-858c-34a4eba5836b) Welcome to the \"Introduction to Artificial Intelligence and Python\" course! This course is designed   5  Lessons View Details (/courses/9e0490f4-e45b-41df-858c-34a4eba5836b) $  20 per session Python Playground: Create a Rock, Paper, Scissors Game (/courses/fd86f75c-b1b5-450d-98ee-7e3ad0b1e357) This is an engaging course designed for kids who are\n",
            "$  20 per session Python Playground: Create a Rock, Paper, Scissors Game (/courses/fd86f75c-b1b5-450d-98ee-7e3ad0b1e357) This is an engaging course designed for kids who are interested in learning programming with Python.   8  Lessons View Details (/courses/fd86f75c-b1b5-450d-98ee-7e3ad0b1e357) $  25 per session AI in Stock Market Success: Career Growth Camp !! (/courses/c110330f-d41d-48fe-8433-88e7527c4d77) Are you ready to unlock the secrets of predicting stock prices using AI? 📈🤖 Join our immersive cou   10  Lessons View Details (/courses/c110330f-d41d-48fe-8433-88e7527c4d77) $  22 per session From Beginner to AI Pro: Kickstart Your Journey With Artificial Intelligence! (For Kids) (/courses/1164fafc-7e5b-4126-b1d6-ce228e266345) Dive into the world of AI! 🤖 Join our \"Introduction to Artificial Intelligence\" course and unlock t   20  Lessons View Details (/courses/1164fafc-7e5b-4126-b1d6-ce228e266345) $  30 per session Game development using python\n",
            "AI! 🤖 Join our \"Introduction to Artificial Intelligence\" course and unlock t   20  Lessons View Details (/courses/1164fafc-7e5b-4126-b1d6-ce228e266345) $  30 per session Game development using python (/courses/a06e18a8-3e06-4777-85c5-fb22b35ea46d) Welcome to the \"Introduction to Python Game Development\" course! In this course, you'll embark on a   4  Lessons View Details (/courses/a06e18a8-3e06-4777-85c5-fb22b35ea46d) $  20 per session Build a Image manipulator using Python Bootcamp for kids (/courses/50986fd0-ea11-4d2e-971f-5fb88fb81542) The Build a Image Manipulator using Python Bootcamp for Kids is a program designed to introduce chil   8  Lessons View Details (/courses/50986fd0-ea11-4d2e-971f-5fb88fb81542) $  20 per session Build a Weather app using Python Bootcamp for kids (/courses/5f754053-de57-4f46-9bb3-b11d5c9e42e0) Build a Weather App using Python Bootcamp for Kids is an educational program designed to introduce y   8  Lessons View Details\n",
            "Python Bootcamp for kids (/courses/5f754053-de57-4f46-9bb3-b11d5c9e42e0) Build a Weather App using Python Bootcamp for Kids is an educational program designed to introduce y   8  Lessons View Details (/courses/5f754053-de57-4f46-9bb3-b11d5c9e42e0) $  20 per session Build Your Own Roblox Battle Arena (/courses/f6853a9e-84ce-40c6-9362-00fcf701e459) Roblox Studio fundamentals are taught through fun and interactive projects. Lectures, projects, hand   8  Lessons View Details (/courses/f6853a9e-84ce-40c6-9362-00fcf701e459) $  22 per session The Millionaire's AI Playbook: Learn How to Predict Stock Prices! (For Kids) (/courses/931b56d8-4192-43e1-ba10-0ce6f94cb2ed) Learn to predict stock prices using the incredible potential of AI and machine learning in our compr   10  Lessons View Details (/courses/931b56d8-4192-43e1-ba10-0ce6f94cb2ed) $  11 per session Machine Learning: 7-Day Project-Based Summer Camp (/courses/1db857a4-f374-49fb-af9c-0f6d2e5ada45) Join our \"Machine Learning Mania\" camp\n",
            "$  11 per session Machine Learning: 7-Day Project-Based Summer Camp (/courses/1db857a4-f374-49fb-af9c-0f6d2e5ada45) Join our \"Machine Learning Mania\" camp for a 7-day tech adventure! Kids will tackle machine learning   7  Lessons View Details (/courses/1db857a4-f374-49fb-af9c-0f6d2e5ada45) $  25 per session AI Pro Camp: Career Growth Catalyst (/courses/7f24d6b5-1645-4184-83d4-6deab75b13f1) Our Intro to AI for Adults course is designed to equip professionals with essential knowledge and pr   20  Lessons View Details (/courses/7f24d6b5-1645-4184-83d4-6deab75b13f1) $  20 per session Minecraft Java Programming for Beginners (/courses/0bc0c9fa-9749-4129-91de-c286a474e9b3) Session-1: Introduction to Java programming and Minecraft. Lesson 2: Getting Started in Creative Mod   7  Lessons View Details (/courses/0bc0c9fa-9749-4129-91de-c286a474e9b3) $  20 per session Build a Chatbot using Python Bootcamp for kids (/courses/5abad7b0-953d-4527-8aa9-4d3ca80ff500) This bootcamp is a fun and\n",
            "Details (/courses/0bc0c9fa-9749-4129-91de-c286a474e9b3) $  20 per session Build a Chatbot using Python Bootcamp for kids (/courses/5abad7b0-953d-4527-8aa9-4d3ca80ff500) This bootcamp is a fun and interactive program designed to teach children how to create their own ch   8  Lessons View Details (/courses/5abad7b0-953d-4527-8aa9-4d3ca80ff500) $  20 per session Build a Password generator using Python Bootcamp for kids (/courses/7544e04d-82d5-447e-9935-c784455c2de3) Welcome to the Build a Password Generator using Python Bootcamp for Kids! In this bootcamp, you will   8  Lessons View Details (/courses/7544e04d-82d5-447e-9935-c784455c2de3) $  20 per session Scratch Playground: Create a Space Game! (/courses/7472b97e-7b73-42dc-b0ef-972832e7bad5) Scratch Playground : Create a Space Game is an intermediate-level course designed to introduce kids   8  Lessons View Details (/courses/7472b97e-7b73-42dc-b0ef-972832e7bad5) $  20 per session Create Your Own Roblox Obstacle Course\n",
            "Game is an intermediate-level course designed to introduce kids   8  Lessons View Details (/courses/7472b97e-7b73-42dc-b0ef-972832e7bad5) $  20 per session Create Your Own Roblox Obstacle Course (/courses/5a45c3b4-3f6e-48dc-ab92-71a1cd38db28) Roblox enthusiasts who want to learn how to design and build their own custom obstacle courses withi   8  Lessons View Details (/courses/5a45c3b4-3f6e-48dc-ab92-71a1cd38db28) $  20 per session Java Minecraft Creative or Survival Mode (/courses/ebe89ac6-5b3a-479d-adab-d6e2d5297773) 1. Title: Minecraft Java Programming for Beginners Overview: This class is designed for complete beg   7  Lessons View Details (/courses/ebe89ac6-5b3a-479d-adab-d6e2d5297773) $  25 per session AI Camp for Jobs & Business:Build Your own ChatGPT (/courses/eab79907-4de4-4413-bb44-a92e253aa5c6) 🌟Welcome to the Chatbot Mastery Course! 🎓 Get ready to unlock the secrets of building intelligent   10  Lessons View Details (/courses/eab79907-4de4-4413-bb44-a92e253aa5c6) $  13 per\n",
            "🌟Welcome to the Chatbot Mastery Course! 🎓 Get ready to unlock the secrets of building intelligent   10  Lessons View Details (/courses/eab79907-4de4-4413-bb44-a92e253aa5c6) $  13 per session HTML, CSS, JavaScript Essentials: 5-Day Coding Bootcamp (/courses/2bf6f84c-f096-459a-a8fb-e629d263f109) Unleash your creativity in our fun and interactive 5-day summer camp. No prior experience needed. Yo   5  Lessons View Details (/courses/2bf6f84c-f096-459a-a8fb-e629d263f109) Working to bring significant changes in online-based learning by doing extensive research for course curriculum preparation, student engagements, and looking forward to the flexible education! Explore Home (/) Courses (/courses) Gift a Course (/gift-a-course) Share a Message (/share-a-message) Resources FAQ (/faq) Contact (/contact) Address USA (+1) 414 429 3937 (tel:+44587154756) support@brainlox.com (mailto:support@brainlox.com) (+1) 414 429 3937 (tel:+557854578964) 2025  Brainlox Privacy Policy (/privacy-policy) Terms &\n",
            "Address USA (+1) 414 429 3937 (tel:+44587154756) support@brainlox.com (mailto:support@brainlox.com) (+1) 414 429 3937 (tel:+557854578964) 2025  Brainlox Privacy Policy (/privacy-policy) Terms & Conditions (/terms-of-service)\n",
            "\n",
            "Creating document embeddings...\n",
            "Created 26 embeddings\n",
            "\n",
            "Setting up vector database...\n",
            "Vector database ready!\n",
            "\n",
            "Uploading to vector database...\n",
            "Uploaded to Vector database!\n",
            " * Serving Flask app '__main__'\n",
            " * Debug mode: off\n"
          ]
        },
        {
          "metadata": {
            "tags": null
          },
          "name": "stderr",
          "output_type": "stream",
          "text": [
            "INFO:werkzeug:\u001b[31m\u001b[1mWARNING: This is a development server. Do not use it in a production deployment. Use a production WSGI server instead.\u001b[0m\n",
            " * Running on http://127.0.0.1:5000\n",
            "INFO:werkzeug:\u001b[33mPress CTRL+C to quit\u001b[0m\n"
          ]
        },
        {
          "metadata": {
            "tags": null
          },
          "name": "stdout",
          "output_type": "stream",
          "text": [
            " * Running on http://ff6e-34-68-130-135.ngrok-free.app\n",
            " * Traffic stats available on http://127.0.0.1:4040\n"
          ]
        }
      ]
    }
  ]
}